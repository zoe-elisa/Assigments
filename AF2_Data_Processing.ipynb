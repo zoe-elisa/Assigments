{
  "nbformat": 4,
  "nbformat_minor": 0,
  "metadata": {
    "colab": {
      "provenance": [],
      "include_colab_link": true
    },
    "kernelspec": {
      "name": "python3",
      "display_name": "Python 3"
    },
    "language_info": {
      "name": "python"
    }
  },
  "cells": [
    {
      "cell_type": "markdown",
      "metadata": {
        "id": "view-in-github",
        "colab_type": "text"
      },
      "source": [
        "<a href=\"https://colab.research.google.com/github/zoe-elisa/Assigments/blob/main/AF2_Data_Processing.ipynb\" target=\"_parent\"><img src=\"https://colab.research.google.com/assets/colab-badge.svg\" alt=\"Open In Colab\"/></a>"
      ]
    },
    {
      "cell_type": "markdown",
      "source": [
        "#**Assignment 2**: *Processing Datasets in Python.*\n",
        "---\n",
        "##### **TEAM:**\n",
        "---\n",
        "\n",
        "*   Kelly Estefanía de la Rosa Gauna ; 2048165 - 002 ; N2\n",
        "*   Sebastian Tamez Rodriguez ; 2071362 - 003 ; N1\n",
        "*   Fatima Zoe Elisa Juarez Barrientos ; 2004844 - 003 ; N1\n",
        "*   Melissa Rojas Resendiz ; 2132073 - 002 ; N2\n",
        "*   Angel Raymundo Balderas Ledezma; 2132172 - 003 ; N1\n"
      ],
      "metadata": {
        "id": "tY82u2aRXtRv"
      }
    },
    {
      "cell_type": "markdown",
      "source": [
        "#**INTRODUCTION**"
      ],
      "metadata": {
        "id": "I23-pF6SwdaU"
      }
    },
    {
      "cell_type": "markdown",
      "source": [
        "This activity focuses on the preparation of a specific dataset with the aim of improving its quality and making it more suitable for predictive modeling. The objectives include identifying and correcting incomplete or unrealistic values to ensure that the dataset, particularly in the biomedical field, reflects accurate and consistent information that can support clinical decision-making and safeguard patient safety. Equally important is the transformation of variables through processes such as normalization, which allows different attributes to be expressed on comparable ranges. In addition, the use of graphical representations, such as histograms and boxplots, makes it possible to examine the distribution of variables, detect irregularities, and evaluate the impact of the transformations applied. That is why the importnace of developing a suitable programm for that analysis."
      ],
      "metadata": {
        "id": "ZarQkejjyWFk"
      }
    },
    {
      "cell_type": "markdown",
      "source": [
        "# **PART ONE: DATA LOADING AND EXPLORATION**"
      ],
      "metadata": {
        "id": "RkSB6xMqI75d"
      }
    },
    {
      "cell_type": "markdown",
      "source": [
        "We start by importing the main libraries that we are going to use throughout the activity like pandas that helps us to load the dataset and manage it in the form of DataFrames. We also use numpy to perform numerical operations; matplotlib to create basic plots and seaborn to improve the design of the graphics."
      ],
      "metadata": {
        "id": "ywvJlISgCpZk"
      }
    },
    {
      "cell_type": "code",
      "execution_count": null,
      "metadata": {
        "id": "flehV9FpDtWU"
      },
      "outputs": [],
      "source": [
        "import pandas as pd\n",
        "import numpy as np\n",
        "import matplotlib.pyplot as plt\n",
        "import seaborn as sns"
      ]
    },
    {
      "cell_type": "markdown",
      "source": [
        "Once the libraries are imported, we load the dataset given in the activity and  *use pd.read_csv()* to read the infomation."
      ],
      "metadata": {
        "id": "b0h9vueGCq_F"
      }
    },
    {
      "cell_type": "code",
      "source": [
        "data = pd.read_csv(\"diabetes.csv\")"
      ],
      "metadata": {
        "id": "aMSQe79p__EZ"
      },
      "execution_count": null,
      "outputs": []
    },
    {
      "cell_type": "markdown",
      "source": [
        "With *data.head()*, we take a quick look at the first 10 rows to get a sense of its structure."
      ],
      "metadata": {
        "id": "Ec79-QF6FG-5"
      }
    },
    {
      "cell_type": "code",
      "source": [
        "data.head(10) # me gusta mas asi pero que segun buenas practicas lo de abajo"
      ],
      "metadata": {
        "colab": {
          "base_uri": "https://localhost:8080/",
          "height": 363
        },
        "id": "HIbAhMFUAuoN",
        "outputId": "dd53afbb-5316-4cb7-b157-cea6e70e939c"
      },
      "execution_count": null,
      "outputs": [
        {
          "output_type": "execute_result",
          "data": {
            "text/plain": [
              "   Pregnancies  Glucose  BloodPressure  SkinThickness  Insulin   BMI  \\\n",
              "0            6      148             72             35        0  33.6   \n",
              "1            1       85             66             29        0  26.6   \n",
              "2            8      183             64              0        0  23.3   \n",
              "3            1       89             66             23       94  28.1   \n",
              "4            0      137             40             35      168  43.1   \n",
              "5            5      116             74              0        0  25.6   \n",
              "6            3       78             50             32       88  31.0   \n",
              "7           10      115              0              0        0  35.3   \n",
              "8            2      197             70             45      543  30.5   \n",
              "9            8      125             96              0        0   0.0   \n",
              "\n",
              "   DiabetesPedigreeFunction  Age  Outcome  \n",
              "0                     0.627   50        1  \n",
              "1                     0.351   31        0  \n",
              "2                     0.672   32        1  \n",
              "3                     0.167   21        0  \n",
              "4                     2.288   33        1  \n",
              "5                     0.201   30        0  \n",
              "6                     0.248   26        1  \n",
              "7                     0.134   29        0  \n",
              "8                     0.158   53        1  \n",
              "9                     0.232   54        1  "
            ],
            "text/html": [
              "\n",
              "  <div id=\"df-2b5f8fc2-1406-43b3-b299-0245759360e1\" class=\"colab-df-container\">\n",
              "    <div>\n",
              "<style scoped>\n",
              "    .dataframe tbody tr th:only-of-type {\n",
              "        vertical-align: middle;\n",
              "    }\n",
              "\n",
              "    .dataframe tbody tr th {\n",
              "        vertical-align: top;\n",
              "    }\n",
              "\n",
              "    .dataframe thead th {\n",
              "        text-align: right;\n",
              "    }\n",
              "</style>\n",
              "<table border=\"1\" class=\"dataframe\">\n",
              "  <thead>\n",
              "    <tr style=\"text-align: right;\">\n",
              "      <th></th>\n",
              "      <th>Pregnancies</th>\n",
              "      <th>Glucose</th>\n",
              "      <th>BloodPressure</th>\n",
              "      <th>SkinThickness</th>\n",
              "      <th>Insulin</th>\n",
              "      <th>BMI</th>\n",
              "      <th>DiabetesPedigreeFunction</th>\n",
              "      <th>Age</th>\n",
              "      <th>Outcome</th>\n",
              "    </tr>\n",
              "  </thead>\n",
              "  <tbody>\n",
              "    <tr>\n",
              "      <th>0</th>\n",
              "      <td>6</td>\n",
              "      <td>148</td>\n",
              "      <td>72</td>\n",
              "      <td>35</td>\n",
              "      <td>0</td>\n",
              "      <td>33.6</td>\n",
              "      <td>0.627</td>\n",
              "      <td>50</td>\n",
              "      <td>1</td>\n",
              "    </tr>\n",
              "    <tr>\n",
              "      <th>1</th>\n",
              "      <td>1</td>\n",
              "      <td>85</td>\n",
              "      <td>66</td>\n",
              "      <td>29</td>\n",
              "      <td>0</td>\n",
              "      <td>26.6</td>\n",
              "      <td>0.351</td>\n",
              "      <td>31</td>\n",
              "      <td>0</td>\n",
              "    </tr>\n",
              "    <tr>\n",
              "      <th>2</th>\n",
              "      <td>8</td>\n",
              "      <td>183</td>\n",
              "      <td>64</td>\n",
              "      <td>0</td>\n",
              "      <td>0</td>\n",
              "      <td>23.3</td>\n",
              "      <td>0.672</td>\n",
              "      <td>32</td>\n",
              "      <td>1</td>\n",
              "    </tr>\n",
              "    <tr>\n",
              "      <th>3</th>\n",
              "      <td>1</td>\n",
              "      <td>89</td>\n",
              "      <td>66</td>\n",
              "      <td>23</td>\n",
              "      <td>94</td>\n",
              "      <td>28.1</td>\n",
              "      <td>0.167</td>\n",
              "      <td>21</td>\n",
              "      <td>0</td>\n",
              "    </tr>\n",
              "    <tr>\n",
              "      <th>4</th>\n",
              "      <td>0</td>\n",
              "      <td>137</td>\n",
              "      <td>40</td>\n",
              "      <td>35</td>\n",
              "      <td>168</td>\n",
              "      <td>43.1</td>\n",
              "      <td>2.288</td>\n",
              "      <td>33</td>\n",
              "      <td>1</td>\n",
              "    </tr>\n",
              "    <tr>\n",
              "      <th>5</th>\n",
              "      <td>5</td>\n",
              "      <td>116</td>\n",
              "      <td>74</td>\n",
              "      <td>0</td>\n",
              "      <td>0</td>\n",
              "      <td>25.6</td>\n",
              "      <td>0.201</td>\n",
              "      <td>30</td>\n",
              "      <td>0</td>\n",
              "    </tr>\n",
              "    <tr>\n",
              "      <th>6</th>\n",
              "      <td>3</td>\n",
              "      <td>78</td>\n",
              "      <td>50</td>\n",
              "      <td>32</td>\n",
              "      <td>88</td>\n",
              "      <td>31.0</td>\n",
              "      <td>0.248</td>\n",
              "      <td>26</td>\n",
              "      <td>1</td>\n",
              "    </tr>\n",
              "    <tr>\n",
              "      <th>7</th>\n",
              "      <td>10</td>\n",
              "      <td>115</td>\n",
              "      <td>0</td>\n",
              "      <td>0</td>\n",
              "      <td>0</td>\n",
              "      <td>35.3</td>\n",
              "      <td>0.134</td>\n",
              "      <td>29</td>\n",
              "      <td>0</td>\n",
              "    </tr>\n",
              "    <tr>\n",
              "      <th>8</th>\n",
              "      <td>2</td>\n",
              "      <td>197</td>\n",
              "      <td>70</td>\n",
              "      <td>45</td>\n",
              "      <td>543</td>\n",
              "      <td>30.5</td>\n",
              "      <td>0.158</td>\n",
              "      <td>53</td>\n",
              "      <td>1</td>\n",
              "    </tr>\n",
              "    <tr>\n",
              "      <th>9</th>\n",
              "      <td>8</td>\n",
              "      <td>125</td>\n",
              "      <td>96</td>\n",
              "      <td>0</td>\n",
              "      <td>0</td>\n",
              "      <td>0.0</td>\n",
              "      <td>0.232</td>\n",
              "      <td>54</td>\n",
              "      <td>1</td>\n",
              "    </tr>\n",
              "  </tbody>\n",
              "</table>\n",
              "</div>\n",
              "    <div class=\"colab-df-buttons\">\n",
              "\n",
              "  <div class=\"colab-df-container\">\n",
              "    <button class=\"colab-df-convert\" onclick=\"convertToInteractive('df-2b5f8fc2-1406-43b3-b299-0245759360e1')\"\n",
              "            title=\"Convert this dataframe to an interactive table.\"\n",
              "            style=\"display:none;\">\n",
              "\n",
              "  <svg xmlns=\"http://www.w3.org/2000/svg\" height=\"24px\" viewBox=\"0 -960 960 960\">\n",
              "    <path d=\"M120-120v-720h720v720H120Zm60-500h600v-160H180v160Zm220 220h160v-160H400v160Zm0 220h160v-160H400v160ZM180-400h160v-160H180v160Zm440 0h160v-160H620v160ZM180-180h160v-160H180v160Zm440 0h160v-160H620v160Z\"/>\n",
              "  </svg>\n",
              "    </button>\n",
              "\n",
              "  <style>\n",
              "    .colab-df-container {\n",
              "      display:flex;\n",
              "      gap: 12px;\n",
              "    }\n",
              "\n",
              "    .colab-df-convert {\n",
              "      background-color: #E8F0FE;\n",
              "      border: none;\n",
              "      border-radius: 50%;\n",
              "      cursor: pointer;\n",
              "      display: none;\n",
              "      fill: #1967D2;\n",
              "      height: 32px;\n",
              "      padding: 0 0 0 0;\n",
              "      width: 32px;\n",
              "    }\n",
              "\n",
              "    .colab-df-convert:hover {\n",
              "      background-color: #E2EBFA;\n",
              "      box-shadow: 0px 1px 2px rgba(60, 64, 67, 0.3), 0px 1px 3px 1px rgba(60, 64, 67, 0.15);\n",
              "      fill: #174EA6;\n",
              "    }\n",
              "\n",
              "    .colab-df-buttons div {\n",
              "      margin-bottom: 4px;\n",
              "    }\n",
              "\n",
              "    [theme=dark] .colab-df-convert {\n",
              "      background-color: #3B4455;\n",
              "      fill: #D2E3FC;\n",
              "    }\n",
              "\n",
              "    [theme=dark] .colab-df-convert:hover {\n",
              "      background-color: #434B5C;\n",
              "      box-shadow: 0px 1px 3px 1px rgba(0, 0, 0, 0.15);\n",
              "      filter: drop-shadow(0px 1px 2px rgba(0, 0, 0, 0.3));\n",
              "      fill: #FFFFFF;\n",
              "    }\n",
              "  </style>\n",
              "\n",
              "    <script>\n",
              "      const buttonEl =\n",
              "        document.querySelector('#df-2b5f8fc2-1406-43b3-b299-0245759360e1 button.colab-df-convert');\n",
              "      buttonEl.style.display =\n",
              "        google.colab.kernel.accessAllowed ? 'block' : 'none';\n",
              "\n",
              "      async function convertToInteractive(key) {\n",
              "        const element = document.querySelector('#df-2b5f8fc2-1406-43b3-b299-0245759360e1');\n",
              "        const dataTable =\n",
              "          await google.colab.kernel.invokeFunction('convertToInteractive',\n",
              "                                                    [key], {});\n",
              "        if (!dataTable) return;\n",
              "\n",
              "        const docLinkHtml = 'Like what you see? Visit the ' +\n",
              "          '<a target=\"_blank\" href=https://colab.research.google.com/notebooks/data_table.ipynb>data table notebook</a>'\n",
              "          + ' to learn more about interactive tables.';\n",
              "        element.innerHTML = '';\n",
              "        dataTable['output_type'] = 'display_data';\n",
              "        await google.colab.output.renderOutput(dataTable, element);\n",
              "        const docLink = document.createElement('div');\n",
              "        docLink.innerHTML = docLinkHtml;\n",
              "        element.appendChild(docLink);\n",
              "      }\n",
              "    </script>\n",
              "  </div>\n",
              "\n",
              "\n",
              "    <div id=\"df-60a4eebd-93ac-42f9-a23f-d954729a5252\">\n",
              "      <button class=\"colab-df-quickchart\" onclick=\"quickchart('df-60a4eebd-93ac-42f9-a23f-d954729a5252')\"\n",
              "                title=\"Suggest charts\"\n",
              "                style=\"display:none;\">\n",
              "\n",
              "<svg xmlns=\"http://www.w3.org/2000/svg\" height=\"24px\"viewBox=\"0 0 24 24\"\n",
              "     width=\"24px\">\n",
              "    <g>\n",
              "        <path d=\"M19 3H5c-1.1 0-2 .9-2 2v14c0 1.1.9 2 2 2h14c1.1 0 2-.9 2-2V5c0-1.1-.9-2-2-2zM9 17H7v-7h2v7zm4 0h-2V7h2v10zm4 0h-2v-4h2v4z\"/>\n",
              "    </g>\n",
              "</svg>\n",
              "      </button>\n",
              "\n",
              "<style>\n",
              "  .colab-df-quickchart {\n",
              "      --bg-color: #E8F0FE;\n",
              "      --fill-color: #1967D2;\n",
              "      --hover-bg-color: #E2EBFA;\n",
              "      --hover-fill-color: #174EA6;\n",
              "      --disabled-fill-color: #AAA;\n",
              "      --disabled-bg-color: #DDD;\n",
              "  }\n",
              "\n",
              "  [theme=dark] .colab-df-quickchart {\n",
              "      --bg-color: #3B4455;\n",
              "      --fill-color: #D2E3FC;\n",
              "      --hover-bg-color: #434B5C;\n",
              "      --hover-fill-color: #FFFFFF;\n",
              "      --disabled-bg-color: #3B4455;\n",
              "      --disabled-fill-color: #666;\n",
              "  }\n",
              "\n",
              "  .colab-df-quickchart {\n",
              "    background-color: var(--bg-color);\n",
              "    border: none;\n",
              "    border-radius: 50%;\n",
              "    cursor: pointer;\n",
              "    display: none;\n",
              "    fill: var(--fill-color);\n",
              "    height: 32px;\n",
              "    padding: 0;\n",
              "    width: 32px;\n",
              "  }\n",
              "\n",
              "  .colab-df-quickchart:hover {\n",
              "    background-color: var(--hover-bg-color);\n",
              "    box-shadow: 0 1px 2px rgba(60, 64, 67, 0.3), 0 1px 3px 1px rgba(60, 64, 67, 0.15);\n",
              "    fill: var(--button-hover-fill-color);\n",
              "  }\n",
              "\n",
              "  .colab-df-quickchart-complete:disabled,\n",
              "  .colab-df-quickchart-complete:disabled:hover {\n",
              "    background-color: var(--disabled-bg-color);\n",
              "    fill: var(--disabled-fill-color);\n",
              "    box-shadow: none;\n",
              "  }\n",
              "\n",
              "  .colab-df-spinner {\n",
              "    border: 2px solid var(--fill-color);\n",
              "    border-color: transparent;\n",
              "    border-bottom-color: var(--fill-color);\n",
              "    animation:\n",
              "      spin 1s steps(1) infinite;\n",
              "  }\n",
              "\n",
              "  @keyframes spin {\n",
              "    0% {\n",
              "      border-color: transparent;\n",
              "      border-bottom-color: var(--fill-color);\n",
              "      border-left-color: var(--fill-color);\n",
              "    }\n",
              "    20% {\n",
              "      border-color: transparent;\n",
              "      border-left-color: var(--fill-color);\n",
              "      border-top-color: var(--fill-color);\n",
              "    }\n",
              "    30% {\n",
              "      border-color: transparent;\n",
              "      border-left-color: var(--fill-color);\n",
              "      border-top-color: var(--fill-color);\n",
              "      border-right-color: var(--fill-color);\n",
              "    }\n",
              "    40% {\n",
              "      border-color: transparent;\n",
              "      border-right-color: var(--fill-color);\n",
              "      border-top-color: var(--fill-color);\n",
              "    }\n",
              "    60% {\n",
              "      border-color: transparent;\n",
              "      border-right-color: var(--fill-color);\n",
              "    }\n",
              "    80% {\n",
              "      border-color: transparent;\n",
              "      border-right-color: var(--fill-color);\n",
              "      border-bottom-color: var(--fill-color);\n",
              "    }\n",
              "    90% {\n",
              "      border-color: transparent;\n",
              "      border-bottom-color: var(--fill-color);\n",
              "    }\n",
              "  }\n",
              "</style>\n",
              "\n",
              "      <script>\n",
              "        async function quickchart(key) {\n",
              "          const quickchartButtonEl =\n",
              "            document.querySelector('#' + key + ' button');\n",
              "          quickchartButtonEl.disabled = true;  // To prevent multiple clicks.\n",
              "          quickchartButtonEl.classList.add('colab-df-spinner');\n",
              "          try {\n",
              "            const charts = await google.colab.kernel.invokeFunction(\n",
              "                'suggestCharts', [key], {});\n",
              "          } catch (error) {\n",
              "            console.error('Error during call to suggestCharts:', error);\n",
              "          }\n",
              "          quickchartButtonEl.classList.remove('colab-df-spinner');\n",
              "          quickchartButtonEl.classList.add('colab-df-quickchart-complete');\n",
              "        }\n",
              "        (() => {\n",
              "          let quickchartButtonEl =\n",
              "            document.querySelector('#df-60a4eebd-93ac-42f9-a23f-d954729a5252 button');\n",
              "          quickchartButtonEl.style.display =\n",
              "            google.colab.kernel.accessAllowed ? 'block' : 'none';\n",
              "        })();\n",
              "      </script>\n",
              "    </div>\n",
              "\n",
              "    </div>\n",
              "  </div>\n"
            ],
            "application/vnd.google.colaboratory.intrinsic+json": {
              "type": "dataframe",
              "variable_name": "data",
              "summary": "{\n  \"name\": \"data\",\n  \"rows\": 768,\n  \"fields\": [\n    {\n      \"column\": \"Pregnancies\",\n      \"properties\": {\n        \"dtype\": \"number\",\n        \"std\": 3,\n        \"min\": 0,\n        \"max\": 17,\n        \"num_unique_values\": 17,\n        \"samples\": [\n          6,\n          1,\n          3\n        ],\n        \"semantic_type\": \"\",\n        \"description\": \"\"\n      }\n    },\n    {\n      \"column\": \"Glucose\",\n      \"properties\": {\n        \"dtype\": \"number\",\n        \"std\": 31,\n        \"min\": 0,\n        \"max\": 199,\n        \"num_unique_values\": 136,\n        \"samples\": [\n          151,\n          101,\n          112\n        ],\n        \"semantic_type\": \"\",\n        \"description\": \"\"\n      }\n    },\n    {\n      \"column\": \"BloodPressure\",\n      \"properties\": {\n        \"dtype\": \"number\",\n        \"std\": 19,\n        \"min\": 0,\n        \"max\": 122,\n        \"num_unique_values\": 47,\n        \"samples\": [\n          86,\n          46,\n          85\n        ],\n        \"semantic_type\": \"\",\n        \"description\": \"\"\n      }\n    },\n    {\n      \"column\": \"SkinThickness\",\n      \"properties\": {\n        \"dtype\": \"number\",\n        \"std\": 15,\n        \"min\": 0,\n        \"max\": 99,\n        \"num_unique_values\": 51,\n        \"samples\": [\n          7,\n          12,\n          48\n        ],\n        \"semantic_type\": \"\",\n        \"description\": \"\"\n      }\n    },\n    {\n      \"column\": \"Insulin\",\n      \"properties\": {\n        \"dtype\": \"number\",\n        \"std\": 115,\n        \"min\": 0,\n        \"max\": 846,\n        \"num_unique_values\": 186,\n        \"samples\": [\n          52,\n          41,\n          183\n        ],\n        \"semantic_type\": \"\",\n        \"description\": \"\"\n      }\n    },\n    {\n      \"column\": \"BMI\",\n      \"properties\": {\n        \"dtype\": \"number\",\n        \"std\": 7.8841603203754405,\n        \"min\": 0.0,\n        \"max\": 67.1,\n        \"num_unique_values\": 248,\n        \"samples\": [\n          19.9,\n          31.0,\n          38.1\n        ],\n        \"semantic_type\": \"\",\n        \"description\": \"\"\n      }\n    },\n    {\n      \"column\": \"DiabetesPedigreeFunction\",\n      \"properties\": {\n        \"dtype\": \"number\",\n        \"std\": 0.33132859501277484,\n        \"min\": 0.078,\n        \"max\": 2.42,\n        \"num_unique_values\": 517,\n        \"samples\": [\n          1.731,\n          0.426,\n          0.138\n        ],\n        \"semantic_type\": \"\",\n        \"description\": \"\"\n      }\n    },\n    {\n      \"column\": \"Age\",\n      \"properties\": {\n        \"dtype\": \"number\",\n        \"std\": 11,\n        \"min\": 21,\n        \"max\": 81,\n        \"num_unique_values\": 52,\n        \"samples\": [\n          60,\n          47,\n          72\n        ],\n        \"semantic_type\": \"\",\n        \"description\": \"\"\n      }\n    },\n    {\n      \"column\": \"Outcome\",\n      \"properties\": {\n        \"dtype\": \"number\",\n        \"std\": 0,\n        \"min\": 0,\n        \"max\": 1,\n        \"num_unique_values\": 2,\n        \"samples\": [\n          0,\n          1\n        ],\n        \"semantic_type\": \"\",\n        \"description\": \"\"\n      }\n    }\n  ]\n}"
            }
          },
          "metadata": {},
          "execution_count": 4
        }
      ]
    },
    {
      "cell_type": "code",
      "source": [
        "#print(data.head(10))"
      ],
      "metadata": {
        "id": "yKDNZsa79VZc"
      },
      "execution_count": null,
      "outputs": []
    },
    {
      "cell_type": "markdown",
      "source": [
        " Then, we check how many values are equal to zero in each column of the DataFrame data using *((data == 0).sum())* because in some variables zero value is not realistic and should be treated as missing data. We do not use *data.isnull()* here, because it only detects actual null or NaN values, and would not identify zeros, which in this dataset represent invalid or missing measurements rather than true nulls."
      ],
      "metadata": {
        "id": "USflhgaXFNxa"
      }
    },
    {
      "cell_type": "code",
      "source": [
        "print((data == 0).sum())"
      ],
      "metadata": {
        "colab": {
          "base_uri": "https://localhost:8080/"
        },
        "id": "T-CBTtITFNQs",
        "outputId": "9f643512-c36c-4cad-d90f-14c2e9749ea7"
      },
      "execution_count": null,
      "outputs": [
        {
          "output_type": "stream",
          "name": "stdout",
          "text": [
            "Pregnancies                 111\n",
            "Glucose                       5\n",
            "BloodPressure                35\n",
            "SkinThickness               227\n",
            "Insulin                     374\n",
            "BMI                          11\n",
            "DiabetesPedigreeFunction      0\n",
            "Age                           0\n",
            "Outcome                     500\n",
            "dtype: int64\n"
          ]
        }
      ]
    },
    {
      "cell_type": "markdown",
      "source": [
        "Finally, we generate descriptive statistics using the *data.describe(), which provides a summary of each numerical column including mean, standard deviation, minimum, maximum and quartiles."
      ],
      "metadata": {
        "id": "WI3HafnmIkta"
      }
    },
    {
      "cell_type": "code",
      "source": [
        "data.describe()"
      ],
      "metadata": {
        "colab": {
          "base_uri": "https://localhost:8080/",
          "height": 300
        },
        "id": "SRcYFn8MFNI2",
        "outputId": "151e5ca2-c518-4310-acae-19f9fb7f23d0"
      },
      "execution_count": null,
      "outputs": [
        {
          "output_type": "execute_result",
          "data": {
            "text/plain": [
              "       Pregnancies     Glucose  BloodPressure  SkinThickness     Insulin  \\\n",
              "count   768.000000  768.000000     768.000000     768.000000  768.000000   \n",
              "mean      3.845052  120.894531      69.105469      20.536458   79.799479   \n",
              "std       3.369578   31.972618      19.355807      15.952218  115.244002   \n",
              "min       0.000000    0.000000       0.000000       0.000000    0.000000   \n",
              "25%       1.000000   99.000000      62.000000       0.000000    0.000000   \n",
              "50%       3.000000  117.000000      72.000000      23.000000   30.500000   \n",
              "75%       6.000000  140.250000      80.000000      32.000000  127.250000   \n",
              "max      17.000000  199.000000     122.000000      99.000000  846.000000   \n",
              "\n",
              "              BMI  DiabetesPedigreeFunction         Age     Outcome  \n",
              "count  768.000000                768.000000  768.000000  768.000000  \n",
              "mean    31.992578                  0.471876   33.240885    0.348958  \n",
              "std      7.884160                  0.331329   11.760232    0.476951  \n",
              "min      0.000000                  0.078000   21.000000    0.000000  \n",
              "25%     27.300000                  0.243750   24.000000    0.000000  \n",
              "50%     32.000000                  0.372500   29.000000    0.000000  \n",
              "75%     36.600000                  0.626250   41.000000    1.000000  \n",
              "max     67.100000                  2.420000   81.000000    1.000000  "
            ],
            "text/html": [
              "\n",
              "  <div id=\"df-3e4654db-5563-40bb-b8af-36a3f8004254\" class=\"colab-df-container\">\n",
              "    <div>\n",
              "<style scoped>\n",
              "    .dataframe tbody tr th:only-of-type {\n",
              "        vertical-align: middle;\n",
              "    }\n",
              "\n",
              "    .dataframe tbody tr th {\n",
              "        vertical-align: top;\n",
              "    }\n",
              "\n",
              "    .dataframe thead th {\n",
              "        text-align: right;\n",
              "    }\n",
              "</style>\n",
              "<table border=\"1\" class=\"dataframe\">\n",
              "  <thead>\n",
              "    <tr style=\"text-align: right;\">\n",
              "      <th></th>\n",
              "      <th>Pregnancies</th>\n",
              "      <th>Glucose</th>\n",
              "      <th>BloodPressure</th>\n",
              "      <th>SkinThickness</th>\n",
              "      <th>Insulin</th>\n",
              "      <th>BMI</th>\n",
              "      <th>DiabetesPedigreeFunction</th>\n",
              "      <th>Age</th>\n",
              "      <th>Outcome</th>\n",
              "    </tr>\n",
              "  </thead>\n",
              "  <tbody>\n",
              "    <tr>\n",
              "      <th>count</th>\n",
              "      <td>768.000000</td>\n",
              "      <td>768.000000</td>\n",
              "      <td>768.000000</td>\n",
              "      <td>768.000000</td>\n",
              "      <td>768.000000</td>\n",
              "      <td>768.000000</td>\n",
              "      <td>768.000000</td>\n",
              "      <td>768.000000</td>\n",
              "      <td>768.000000</td>\n",
              "    </tr>\n",
              "    <tr>\n",
              "      <th>mean</th>\n",
              "      <td>3.845052</td>\n",
              "      <td>120.894531</td>\n",
              "      <td>69.105469</td>\n",
              "      <td>20.536458</td>\n",
              "      <td>79.799479</td>\n",
              "      <td>31.992578</td>\n",
              "      <td>0.471876</td>\n",
              "      <td>33.240885</td>\n",
              "      <td>0.348958</td>\n",
              "    </tr>\n",
              "    <tr>\n",
              "      <th>std</th>\n",
              "      <td>3.369578</td>\n",
              "      <td>31.972618</td>\n",
              "      <td>19.355807</td>\n",
              "      <td>15.952218</td>\n",
              "      <td>115.244002</td>\n",
              "      <td>7.884160</td>\n",
              "      <td>0.331329</td>\n",
              "      <td>11.760232</td>\n",
              "      <td>0.476951</td>\n",
              "    </tr>\n",
              "    <tr>\n",
              "      <th>min</th>\n",
              "      <td>0.000000</td>\n",
              "      <td>0.000000</td>\n",
              "      <td>0.000000</td>\n",
              "      <td>0.000000</td>\n",
              "      <td>0.000000</td>\n",
              "      <td>0.000000</td>\n",
              "      <td>0.078000</td>\n",
              "      <td>21.000000</td>\n",
              "      <td>0.000000</td>\n",
              "    </tr>\n",
              "    <tr>\n",
              "      <th>25%</th>\n",
              "      <td>1.000000</td>\n",
              "      <td>99.000000</td>\n",
              "      <td>62.000000</td>\n",
              "      <td>0.000000</td>\n",
              "      <td>0.000000</td>\n",
              "      <td>27.300000</td>\n",
              "      <td>0.243750</td>\n",
              "      <td>24.000000</td>\n",
              "      <td>0.000000</td>\n",
              "    </tr>\n",
              "    <tr>\n",
              "      <th>50%</th>\n",
              "      <td>3.000000</td>\n",
              "      <td>117.000000</td>\n",
              "      <td>72.000000</td>\n",
              "      <td>23.000000</td>\n",
              "      <td>30.500000</td>\n",
              "      <td>32.000000</td>\n",
              "      <td>0.372500</td>\n",
              "      <td>29.000000</td>\n",
              "      <td>0.000000</td>\n",
              "    </tr>\n",
              "    <tr>\n",
              "      <th>75%</th>\n",
              "      <td>6.000000</td>\n",
              "      <td>140.250000</td>\n",
              "      <td>80.000000</td>\n",
              "      <td>32.000000</td>\n",
              "      <td>127.250000</td>\n",
              "      <td>36.600000</td>\n",
              "      <td>0.626250</td>\n",
              "      <td>41.000000</td>\n",
              "      <td>1.000000</td>\n",
              "    </tr>\n",
              "    <tr>\n",
              "      <th>max</th>\n",
              "      <td>17.000000</td>\n",
              "      <td>199.000000</td>\n",
              "      <td>122.000000</td>\n",
              "      <td>99.000000</td>\n",
              "      <td>846.000000</td>\n",
              "      <td>67.100000</td>\n",
              "      <td>2.420000</td>\n",
              "      <td>81.000000</td>\n",
              "      <td>1.000000</td>\n",
              "    </tr>\n",
              "  </tbody>\n",
              "</table>\n",
              "</div>\n",
              "    <div class=\"colab-df-buttons\">\n",
              "\n",
              "  <div class=\"colab-df-container\">\n",
              "    <button class=\"colab-df-convert\" onclick=\"convertToInteractive('df-3e4654db-5563-40bb-b8af-36a3f8004254')\"\n",
              "            title=\"Convert this dataframe to an interactive table.\"\n",
              "            style=\"display:none;\">\n",
              "\n",
              "  <svg xmlns=\"http://www.w3.org/2000/svg\" height=\"24px\" viewBox=\"0 -960 960 960\">\n",
              "    <path d=\"M120-120v-720h720v720H120Zm60-500h600v-160H180v160Zm220 220h160v-160H400v160Zm0 220h160v-160H400v160ZM180-400h160v-160H180v160Zm440 0h160v-160H620v160ZM180-180h160v-160H180v160Zm440 0h160v-160H620v160Z\"/>\n",
              "  </svg>\n",
              "    </button>\n",
              "\n",
              "  <style>\n",
              "    .colab-df-container {\n",
              "      display:flex;\n",
              "      gap: 12px;\n",
              "    }\n",
              "\n",
              "    .colab-df-convert {\n",
              "      background-color: #E8F0FE;\n",
              "      border: none;\n",
              "      border-radius: 50%;\n",
              "      cursor: pointer;\n",
              "      display: none;\n",
              "      fill: #1967D2;\n",
              "      height: 32px;\n",
              "      padding: 0 0 0 0;\n",
              "      width: 32px;\n",
              "    }\n",
              "\n",
              "    .colab-df-convert:hover {\n",
              "      background-color: #E2EBFA;\n",
              "      box-shadow: 0px 1px 2px rgba(60, 64, 67, 0.3), 0px 1px 3px 1px rgba(60, 64, 67, 0.15);\n",
              "      fill: #174EA6;\n",
              "    }\n",
              "\n",
              "    .colab-df-buttons div {\n",
              "      margin-bottom: 4px;\n",
              "    }\n",
              "\n",
              "    [theme=dark] .colab-df-convert {\n",
              "      background-color: #3B4455;\n",
              "      fill: #D2E3FC;\n",
              "    }\n",
              "\n",
              "    [theme=dark] .colab-df-convert:hover {\n",
              "      background-color: #434B5C;\n",
              "      box-shadow: 0px 1px 3px 1px rgba(0, 0, 0, 0.15);\n",
              "      filter: drop-shadow(0px 1px 2px rgba(0, 0, 0, 0.3));\n",
              "      fill: #FFFFFF;\n",
              "    }\n",
              "  </style>\n",
              "\n",
              "    <script>\n",
              "      const buttonEl =\n",
              "        document.querySelector('#df-3e4654db-5563-40bb-b8af-36a3f8004254 button.colab-df-convert');\n",
              "      buttonEl.style.display =\n",
              "        google.colab.kernel.accessAllowed ? 'block' : 'none';\n",
              "\n",
              "      async function convertToInteractive(key) {\n",
              "        const element = document.querySelector('#df-3e4654db-5563-40bb-b8af-36a3f8004254');\n",
              "        const dataTable =\n",
              "          await google.colab.kernel.invokeFunction('convertToInteractive',\n",
              "                                                    [key], {});\n",
              "        if (!dataTable) return;\n",
              "\n",
              "        const docLinkHtml = 'Like what you see? Visit the ' +\n",
              "          '<a target=\"_blank\" href=https://colab.research.google.com/notebooks/data_table.ipynb>data table notebook</a>'\n",
              "          + ' to learn more about interactive tables.';\n",
              "        element.innerHTML = '';\n",
              "        dataTable['output_type'] = 'display_data';\n",
              "        await google.colab.output.renderOutput(dataTable, element);\n",
              "        const docLink = document.createElement('div');\n",
              "        docLink.innerHTML = docLinkHtml;\n",
              "        element.appendChild(docLink);\n",
              "      }\n",
              "    </script>\n",
              "  </div>\n",
              "\n",
              "\n",
              "    <div id=\"df-db34cc47-d635-4a04-9bc6-010ac67ca55a\">\n",
              "      <button class=\"colab-df-quickchart\" onclick=\"quickchart('df-db34cc47-d635-4a04-9bc6-010ac67ca55a')\"\n",
              "                title=\"Suggest charts\"\n",
              "                style=\"display:none;\">\n",
              "\n",
              "<svg xmlns=\"http://www.w3.org/2000/svg\" height=\"24px\"viewBox=\"0 0 24 24\"\n",
              "     width=\"24px\">\n",
              "    <g>\n",
              "        <path d=\"M19 3H5c-1.1 0-2 .9-2 2v14c0 1.1.9 2 2 2h14c1.1 0 2-.9 2-2V5c0-1.1-.9-2-2-2zM9 17H7v-7h2v7zm4 0h-2V7h2v10zm4 0h-2v-4h2v4z\"/>\n",
              "    </g>\n",
              "</svg>\n",
              "      </button>\n",
              "\n",
              "<style>\n",
              "  .colab-df-quickchart {\n",
              "      --bg-color: #E8F0FE;\n",
              "      --fill-color: #1967D2;\n",
              "      --hover-bg-color: #E2EBFA;\n",
              "      --hover-fill-color: #174EA6;\n",
              "      --disabled-fill-color: #AAA;\n",
              "      --disabled-bg-color: #DDD;\n",
              "  }\n",
              "\n",
              "  [theme=dark] .colab-df-quickchart {\n",
              "      --bg-color: #3B4455;\n",
              "      --fill-color: #D2E3FC;\n",
              "      --hover-bg-color: #434B5C;\n",
              "      --hover-fill-color: #FFFFFF;\n",
              "      --disabled-bg-color: #3B4455;\n",
              "      --disabled-fill-color: #666;\n",
              "  }\n",
              "\n",
              "  .colab-df-quickchart {\n",
              "    background-color: var(--bg-color);\n",
              "    border: none;\n",
              "    border-radius: 50%;\n",
              "    cursor: pointer;\n",
              "    display: none;\n",
              "    fill: var(--fill-color);\n",
              "    height: 32px;\n",
              "    padding: 0;\n",
              "    width: 32px;\n",
              "  }\n",
              "\n",
              "  .colab-df-quickchart:hover {\n",
              "    background-color: var(--hover-bg-color);\n",
              "    box-shadow: 0 1px 2px rgba(60, 64, 67, 0.3), 0 1px 3px 1px rgba(60, 64, 67, 0.15);\n",
              "    fill: var(--button-hover-fill-color);\n",
              "  }\n",
              "\n",
              "  .colab-df-quickchart-complete:disabled,\n",
              "  .colab-df-quickchart-complete:disabled:hover {\n",
              "    background-color: var(--disabled-bg-color);\n",
              "    fill: var(--disabled-fill-color);\n",
              "    box-shadow: none;\n",
              "  }\n",
              "\n",
              "  .colab-df-spinner {\n",
              "    border: 2px solid var(--fill-color);\n",
              "    border-color: transparent;\n",
              "    border-bottom-color: var(--fill-color);\n",
              "    animation:\n",
              "      spin 1s steps(1) infinite;\n",
              "  }\n",
              "\n",
              "  @keyframes spin {\n",
              "    0% {\n",
              "      border-color: transparent;\n",
              "      border-bottom-color: var(--fill-color);\n",
              "      border-left-color: var(--fill-color);\n",
              "    }\n",
              "    20% {\n",
              "      border-color: transparent;\n",
              "      border-left-color: var(--fill-color);\n",
              "      border-top-color: var(--fill-color);\n",
              "    }\n",
              "    30% {\n",
              "      border-color: transparent;\n",
              "      border-left-color: var(--fill-color);\n",
              "      border-top-color: var(--fill-color);\n",
              "      border-right-color: var(--fill-color);\n",
              "    }\n",
              "    40% {\n",
              "      border-color: transparent;\n",
              "      border-right-color: var(--fill-color);\n",
              "      border-top-color: var(--fill-color);\n",
              "    }\n",
              "    60% {\n",
              "      border-color: transparent;\n",
              "      border-right-color: var(--fill-color);\n",
              "    }\n",
              "    80% {\n",
              "      border-color: transparent;\n",
              "      border-right-color: var(--fill-color);\n",
              "      border-bottom-color: var(--fill-color);\n",
              "    }\n",
              "    90% {\n",
              "      border-color: transparent;\n",
              "      border-bottom-color: var(--fill-color);\n",
              "    }\n",
              "  }\n",
              "</style>\n",
              "\n",
              "      <script>\n",
              "        async function quickchart(key) {\n",
              "          const quickchartButtonEl =\n",
              "            document.querySelector('#' + key + ' button');\n",
              "          quickchartButtonEl.disabled = true;  // To prevent multiple clicks.\n",
              "          quickchartButtonEl.classList.add('colab-df-spinner');\n",
              "          try {\n",
              "            const charts = await google.colab.kernel.invokeFunction(\n",
              "                'suggestCharts', [key], {});\n",
              "          } catch (error) {\n",
              "            console.error('Error during call to suggestCharts:', error);\n",
              "          }\n",
              "          quickchartButtonEl.classList.remove('colab-df-spinner');\n",
              "          quickchartButtonEl.classList.add('colab-df-quickchart-complete');\n",
              "        }\n",
              "        (() => {\n",
              "          let quickchartButtonEl =\n",
              "            document.querySelector('#df-db34cc47-d635-4a04-9bc6-010ac67ca55a button');\n",
              "          quickchartButtonEl.style.display =\n",
              "            google.colab.kernel.accessAllowed ? 'block' : 'none';\n",
              "        })();\n",
              "      </script>\n",
              "    </div>\n",
              "\n",
              "    </div>\n",
              "  </div>\n"
            ],
            "application/vnd.google.colaboratory.intrinsic+json": {
              "type": "dataframe",
              "summary": "{\n  \"name\": \"data\",\n  \"rows\": 8,\n  \"fields\": [\n    {\n      \"column\": \"Pregnancies\",\n      \"properties\": {\n        \"dtype\": \"number\",\n        \"std\": 269.85223453356366,\n        \"min\": 0.0,\n        \"max\": 768.0,\n        \"num_unique_values\": 8,\n        \"samples\": [\n          3.8450520833333335,\n          3.0,\n          768.0\n        ],\n        \"semantic_type\": \"\",\n        \"description\": \"\"\n      }\n    },\n    {\n      \"column\": \"Glucose\",\n      \"properties\": {\n        \"dtype\": \"number\",\n        \"std\": 243.73802348295857,\n        \"min\": 0.0,\n        \"max\": 768.0,\n        \"num_unique_values\": 8,\n        \"samples\": [\n          120.89453125,\n          117.0,\n          768.0\n        ],\n        \"semantic_type\": \"\",\n        \"description\": \"\"\n      }\n    },\n    {\n      \"column\": \"BloodPressure\",\n      \"properties\": {\n        \"dtype\": \"number\",\n        \"std\": 252.85250535810619,\n        \"min\": 0.0,\n        \"max\": 768.0,\n        \"num_unique_values\": 8,\n        \"samples\": [\n          69.10546875,\n          72.0,\n          768.0\n        ],\n        \"semantic_type\": \"\",\n        \"description\": \"\"\n      }\n    },\n    {\n      \"column\": \"SkinThickness\",\n      \"properties\": {\n        \"dtype\": \"number\",\n        \"std\": 263.7684730531098,\n        \"min\": 0.0,\n        \"max\": 768.0,\n        \"num_unique_values\": 7,\n        \"samples\": [\n          768.0,\n          20.536458333333332,\n          32.0\n        ],\n        \"semantic_type\": \"\",\n        \"description\": \"\"\n      }\n    },\n    {\n      \"column\": \"Insulin\",\n      \"properties\": {\n        \"dtype\": \"number\",\n        \"std\": 350.26059167945886,\n        \"min\": 0.0,\n        \"max\": 846.0,\n        \"num_unique_values\": 7,\n        \"samples\": [\n          768.0,\n          79.79947916666667,\n          127.25\n        ],\n        \"semantic_type\": \"\",\n        \"description\": \"\"\n      }\n    },\n    {\n      \"column\": \"BMI\",\n      \"properties\": {\n        \"dtype\": \"number\",\n        \"std\": 262.05117817552093,\n        \"min\": 0.0,\n        \"max\": 768.0,\n        \"num_unique_values\": 8,\n        \"samples\": [\n          31.992578124999998,\n          32.0,\n          768.0\n        ],\n        \"semantic_type\": \"\",\n        \"description\": \"\"\n      }\n    },\n    {\n      \"column\": \"DiabetesPedigreeFunction\",\n      \"properties\": {\n        \"dtype\": \"number\",\n        \"std\": 271.3005221658502,\n        \"min\": 0.078,\n        \"max\": 768.0,\n        \"num_unique_values\": 8,\n        \"samples\": [\n          0.47187630208333325,\n          0.3725,\n          768.0\n        ],\n        \"semantic_type\": \"\",\n        \"description\": \"\"\n      }\n    },\n    {\n      \"column\": \"Age\",\n      \"properties\": {\n        \"dtype\": \"number\",\n        \"std\": 260.1941178528413,\n        \"min\": 11.76023154067868,\n        \"max\": 768.0,\n        \"num_unique_values\": 8,\n        \"samples\": [\n          33.240885416666664,\n          29.0,\n          768.0\n        ],\n        \"semantic_type\": \"\",\n        \"description\": \"\"\n      }\n    },\n    {\n      \"column\": \"Outcome\",\n      \"properties\": {\n        \"dtype\": \"number\",\n        \"std\": 271.3865920388932,\n        \"min\": 0.0,\n        \"max\": 768.0,\n        \"num_unique_values\": 5,\n        \"samples\": [\n          0.3489583333333333,\n          1.0,\n          0.4769513772427971\n        ],\n        \"semantic_type\": \"\",\n        \"description\": \"\"\n      }\n    }\n  ]\n}"
            }
          },
          "metadata": {},
          "execution_count": 6
        }
      ]
    },
    {
      "cell_type": "markdown",
      "source": [
        "## **PART TWO: DATA CLEANING AND NORMALIZATION**"
      ],
      "metadata": {
        "id": "876PKZSHJFBa"
      }
    },
    {
      "cell_type": "markdown",
      "source": [
        "In this part, we need to replace the zero values in the dataset with NaN so that Pandas can correctly recognize them as missing data. To do this, we use the command *df_missing = df.replace(0, np.nan)*. The output shown in the image is an exaple of how all zeros in the DataFrame are replaced by NaN. This image was taken from the official Pandas documentation.\n",
        "\n",
        "![image.png](data:image/png;base64,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)"
      ],
      "metadata": {
        "id": "g_qTMoJ9OYnw"
      }
    },
    {
      "cell_type": "markdown",
      "source": [
        "Here you can see how we use the command in each variable."
      ],
      "metadata": {
        "id": "2_dlNGD57_E5"
      }
    },
    {
      "cell_type": "code",
      "source": [
        "data[\"Glucose\"] = data[\"Glucose\"].replace(0, np.nan)\n",
        "data[\"BloodPressure\"] = data[\"BloodPressure\"].replace(0, np.nan)\n",
        "data[\"SkinThickness\"] = data[\"SkinThickness\"].replace(0, np.nan)\n",
        "data[\"Insulin\"] = data[\"Insulin\"].replace(0, np.nan)\n",
        "data[\"BMI\"] = data[\"BMI\"].replace(0, np.nan)"
      ],
      "metadata": {
        "id": "MJla5sUvFM_x"
      },
      "execution_count": null,
      "outputs": []
    },
    {
      "cell_type": "code",
      "source": [
        "#data.head(10) # esto lo podemos quitar solo es para yo checar que pede"
      ],
      "metadata": {
        "id": "Hy3Ir-ytFMt5"
      },
      "execution_count": null,
      "outputs": []
    },
    {
      "cell_type": "code",
      "source": [
        "data[\"Glucose\"] = data[\"Glucose\"].fillna(data[\"Glucose\"].mean())\n",
        "data[\"BloodPressure\"] = data[\"BloodPressure\"].fillna(data[\"BloodPressure\"].mean())\n",
        "data[\"SkinThickness\"] = data[\"SkinThickness\"].fillna(data[\"SkinThickness\"].mean())\n",
        "data[\"Insulin\"] = data[\"Insulin\"].fillna(data[\"Insulin\"].mean())\n",
        "data[\"BMI\"] = data[\"BMI\"].fillna(data[\"BMI\"].mean())"
      ],
      "metadata": {
        "id": "rdI1TpGCPgCz"
      },
      "execution_count": null,
      "outputs": []
    },
    {
      "cell_type": "markdown",
      "source": [
        "In this step, we calculate the minimum and maximum values for each column in the dataset using functions *np.min* and *np.max*. These values allow us to apply the Min-Max normalization formula, which rescales all the numerical data into a range between 0 and 1."
      ],
      "metadata": {
        "id": "leJPRtY4XYPN"
      }
    },
    {
      "cell_type": "code",
      "source": [
        "# Calculation of min and max by column\n",
        "min_vals = np.min(data, axis=0)\n",
        "max_vals = np.max(data, axis=0)\n",
        "\n",
        "# Min-Max normalization\n",
        "normalized_data = (data - min_vals) / (max_vals - min_vals)\n",
        "\n",
        "print(\"Original data:\")\n",
        "print(data)\n",
        "print(\"\\nNormalized data:\")\n",
        "print(normalized_data)"
      ],
      "metadata": {
        "id": "_qaNreqFXa-w",
        "outputId": "d1fa28c5-e959-4823-d754-afd832134cc0",
        "colab": {
          "base_uri": "https://localhost:8080/"
        }
      },
      "execution_count": null,
      "outputs": [
        {
          "output_type": "stream",
          "name": "stdout",
          "text": [
            "Original data:\n",
            "     Pregnancies  Glucose  BloodPressure  SkinThickness  Insulin   BMI  \\\n",
            "0              6      148             72             35        0  33.6   \n",
            "1              1       85             66             29        0  26.6   \n",
            "2              8      183             64              0        0  23.3   \n",
            "3              1       89             66             23       94  28.1   \n",
            "4              0      137             40             35      168  43.1   \n",
            "..           ...      ...            ...            ...      ...   ...   \n",
            "763           10      101             76             48      180  32.9   \n",
            "764            2      122             70             27        0  36.8   \n",
            "765            5      121             72             23      112  26.2   \n",
            "766            1      126             60              0        0  30.1   \n",
            "767            1       93             70             31        0  30.4   \n",
            "\n",
            "     DiabetesPedigreeFunction  Age  Outcome  \n",
            "0                       0.627   50        1  \n",
            "1                       0.351   31        0  \n",
            "2                       0.672   32        1  \n",
            "3                       0.167   21        0  \n",
            "4                       2.288   33        1  \n",
            "..                        ...  ...      ...  \n",
            "763                     0.171   63        0  \n",
            "764                     0.340   27        0  \n",
            "765                     0.245   30        0  \n",
            "766                     0.349   47        1  \n",
            "767                     0.315   23        0  \n",
            "\n",
            "[768 rows x 9 columns]\n",
            "\n",
            "Normalized data:\n",
            "     Pregnancies   Glucose  BloodPressure  SkinThickness   Insulin       BMI  \\\n",
            "0       0.352941  0.743719       0.590164       0.353535  0.000000  0.500745   \n",
            "1       0.058824  0.427136       0.540984       0.292929  0.000000  0.396423   \n",
            "2       0.470588  0.919598       0.524590       0.000000  0.000000  0.347243   \n",
            "3       0.058824  0.447236       0.540984       0.232323  0.111111  0.418778   \n",
            "4       0.000000  0.688442       0.327869       0.353535  0.198582  0.642325   \n",
            "..           ...       ...            ...            ...       ...       ...   \n",
            "763     0.588235  0.507538       0.622951       0.484848  0.212766  0.490313   \n",
            "764     0.117647  0.613065       0.573770       0.272727  0.000000  0.548435   \n",
            "765     0.294118  0.608040       0.590164       0.232323  0.132388  0.390462   \n",
            "766     0.058824  0.633166       0.491803       0.000000  0.000000  0.448584   \n",
            "767     0.058824  0.467337       0.573770       0.313131  0.000000  0.453055   \n",
            "\n",
            "     DiabetesPedigreeFunction       Age  Outcome  \n",
            "0                    0.234415  0.483333      1.0  \n",
            "1                    0.116567  0.166667      0.0  \n",
            "2                    0.253629  0.183333      1.0  \n",
            "3                    0.038002  0.000000      0.0  \n",
            "4                    0.943638  0.200000      1.0  \n",
            "..                        ...       ...      ...  \n",
            "763                  0.039710  0.700000      0.0  \n",
            "764                  0.111870  0.100000      0.0  \n",
            "765                  0.071307  0.150000      0.0  \n",
            "766                  0.115713  0.433333      1.0  \n",
            "767                  0.101196  0.033333      0.0  \n",
            "\n",
            "[768 rows x 9 columns]\n"
          ]
        }
      ]
    },
    {
      "cell_type": "markdown",
      "source": [
        "## **PART TREE: DATA VISUALIZATION**"
      ],
      "metadata": {
        "id": "Z_0PNDO5vJDt"
      }
    },
    {
      "cell_type": "markdown",
      "source": [
        "#### Histogram of glucose levels before and after normalization.\n",
        "For this part of our code we will be using the library Matplotlib and most of the Matplotlib utilities lies under the pyplot submodule, and we are importing them under the plt alias.\n",
        "We use the funtion subplot so we can draw multiple plots in one figure and also other functions to personalize size and color."
      ],
      "metadata": {
        "id": "0xYkqOB6xkg_"
      }
    },
    {
      "cell_type": "code",
      "source": [
        "plt.subplot(2, 2, 1)\n",
        "plt.hist(data['Glucose'], color='#7208a2')\n",
        "plt.title(\"Glucose levels before \\n normalization\")\n",
        "\n",
        "plt.subplot(2, 2, 2)\n",
        "plt.hist(normalized_data['Glucose'], color='#8a0bbb')\n",
        "plt.title(\"Glucose levels after \\n normalization\")"
      ],
      "metadata": {
        "colab": {
          "base_uri": "https://localhost:8080/",
          "height": 288
        },
        "id": "QxGQKnrera__",
        "outputId": "f84c2967-86c3-46b2-fad8-b0e646fd0f7c"
      },
      "execution_count": null,
      "outputs": [
        {
          "output_type": "execute_result",
          "data": {
            "text/plain": [
              "Text(0.5, 1.0, 'Glucose levels after \\n normalization')"
            ]
          },
          "metadata": {},
          "execution_count": 30
        },
        {
          "output_type": "display_data",
          "data": {
            "text/plain": [
              "<Figure size 640x480 with 2 Axes>"
            ],
            "image/png": "[encoded data removed]"
          },
          "metadata": {}
        }
      ]
    },
    {
      "cell_type": "markdown",
      "source": [
        "#### Boxplot to identify outliers in blood pressure\n",
        "For an easier personalitation we use the library seabor as sns because if we use matploylib it requieres more steps to change the boxplot colors."
      ],
      "metadata": {
        "id": "ZhzHRBOTy0O7"
      }
    },
    {
      "cell_type": "code",
      "source": [
        "sns.boxplot(data['BloodPressure'], color='#b50b24')"
      ],
      "metadata": {
        "colab": {
          "base_uri": "https://localhost:8080/",
          "height": 428
        },
        "id": "yVwexYlh0A0X",
        "outputId": "61c86a14-20c1-4fb6-a200-55760dd18acf"
      },
      "execution_count": null,
      "outputs": [
        {
          "output_type": "execute_result",
          "data": {
            "text/plain": [
              "<Axes: ylabel='BloodPressure'>"
            ]
          },
          "metadata": {},
          "execution_count": 37
        },
        {
          "output_type": "display_data",
          "data": {
            "text/plain": [
              "<Figure size 640x480 with 1 Axes>"
            ],
            "image/png": "[encoded data removed]"
          },
          "metadata": {}
        }
      ]
    },
    {
      "cell_type": "markdown",
      "source": [
        "#### Scatter plot between Glucose and BMI to analyze correlation\n",
        "We also use sns here because it automaticly adds the labels for the graphs."
      ],
      "metadata": {
        "id": "ABcmRYw71fwe"
      }
    },
    {
      "cell_type": "code",
      "source": [
        "sns.scatterplot(x=data[\"Glucose\"], y=data['BMI'], color='#003153')\n",
        "plt.title(\"Scatter plot\")"
      ],
      "metadata": {
        "colab": {
          "base_uri": "https://localhost:8080/",
          "height": 489
        },
        "id": "X4F1JVaN1hl6",
        "outputId": "0d9b42e9-017a-43b8-c51f-ea28246cee7f"
      },
      "execution_count": null,
      "outputs": [
        {
          "output_type": "execute_result",
          "data": {
            "text/plain": [
              "Text(0.5, 1.0, 'Scatter plot')"
            ]
          },
          "metadata": {},
          "execution_count": 51
        },
        {
          "output_type": "display_data",
          "data": {
            "text/plain": [
              "<Figure size 640x480 with 1 Axes>"
            ],
            "image/png": "[encoded data removed]"
          },
          "metadata": {}
        }
      ]
    },
    {
      "cell_type": "markdown",
      "source": [
        "#### Bar chart showing the number of patients with and without diabetes (Outcome)\n",
        "With the bar function we create the layout of the bar, sthe categories and their values represented by the first and second argument as arrays.\n",
        "We first have to count the numbre of negative outcomes (0) and establish a variable for that, and another for the positive outcomes (1); after this we then create our labels as the firts array and the values as the second."
      ],
      "metadata": {
        "id": "uG2dQt3d2_Fx"
      }
    },
    {
      "cell_type": "code",
      "source": [
        "neg = (data['Outcome'] == 0).sum()\n",
        "pos= (data['Outcome'] == 1).sum()\n",
        "\n",
        "plt.bar(['Without diabetes' , ], [neg,pos], color=[\"#D60270\", \"#0038A8\"])"
      ],
      "metadata": {
        "colab": {
          "base_uri": "https://localhost:8080/",
          "height": 447
        },
        "id": "gceNCng94Ab4",
        "outputId": "398ec50c-6058-4200-fcf0-8eebd0b6be9b"
      },
      "execution_count": null,
      "outputs": [
        {
          "output_type": "execute_result",
          "data": {
            "text/plain": [
              "<BarContainer object of 2 artists>"
            ]
          },
          "metadata": {},
          "execution_count": 56
        },
        {
          "output_type": "display_data",
          "data": {
            "text/plain": [
              "<Figure size 640x480 with 1 Axes>"
            ],
            "image/png": "[encoded data removed]"
          },
          "metadata": {}
        }
      ]
    },
    {
      "cell_type": "markdown",
      "source": [
        "***CUESTIONARY.***\n",
        "\n",
        "**1. What impact do missing values have on data analysis?**\n",
        "\n",
        "Missing values affect three key things: bias, statistical power and external validity. If data are missing completely at random (MCAR), missing cases especially reduce sample size and increase variance. But in biomedicine it is more common to be missing conditionally random (MAR) or non-random (MNAR). MAR and especially MNAR introduce systematic bias if we simply remove rows. Algorithms that assume full matrices may fail or learn spurious patterns; for example, a network may confound that a missing test is correlated with severity if the missingness is not random. In longitudinal trials, absenteeism due to loss to follow-up distorts trajectories and may inflate or attenuate effects. Therefore, it is convenient to: characterize the mechanism of absence; compare descriptions between complete vs. incomplete cases; use multiple imputation or maximum likelihood methods; include “missing” indicators when it makes clinical sense; and report sensitivity analyses.\n",
        "\n",
        "**2. How can we detect and handle outliers in biomedical datasets?**\n",
        "\n",
        "To detect outliers, researchers typically begin with exploratory data analysis (EDA). Visualization tools such as boxplots, scatter plots, or histograms help identify values that fall far from the majority of the data. For more formal methods, statistical techniques are applied. The Z-score method detects values that are several standard deviations away from the mean, while the interquartile range (IQR) rule flags observations lying below Q1 − 1.5×IQR or above Q3 + 1.5×IQR. For datasets with non-normal distributions, robust methods such as the median absolute deviation (MAD) are preferred. In high-dimensional biomedical data, multivariate techniques like Mahalanobis distance, principal component analysis (PCA), or clustering-based anomaly detection can be applied to detect unusual patterns that may not stand out in a single variable. Handling outliers depends on their nature and the research context. If the outlier is caused by measurement or data entry errors, it can be corrected or removed. If it reflects a rare but clinically significant condition, it should not be discarded, as it could provide valuable insights.\n",
        "\n",
        "**3. What are some common causes of missing or incorrect data in biomedical studies?**\n",
        "\n",
        "They arise from human failures (typing, transcription, code mapping), devices (poorly calibrated sensors, detection limits that censor low measurements), logistics (degraded samples, misplacement, time misalignment), and patient behavior (non-adherence, dropout in cohorts). In EHR, heterogeneity of systems, formats and units generates errors (mg/dL vs mmol/L; “<5” as text), as well as not recorded that does not distinguish “not measured” from “did not apply”. In trials, protocol changes, consent problems, or redaction/anonymization can erase fields. There are also systematic causes that induce MNAR: more severe patients may skip visits or exams, or certain tests are only ordered in the presence of clinical suspicion.\n",
        "\n",
        "**4. How does normalizing data improve the performance of Machine Learning models?**\n",
        "\n",
        "Normalization aligns scales and reduces the numerical condition of the problem, facilitating optimization and making distances meaningful. Distance-based models (k-NN, k-means), SVM with kernels and neural networks are especially sensitive; without scaling, one variable in large magnitudes can dominate over another clinically relevant but small-scale variable. In biomedicine, in addition to the classical z-score (mean-standard deviation), robust scalers (median-IQR) are appropriate when there are heavy tails/outliers. For omic counts, specific normalizations are used and, in imaging/physiology data, per-channel or per-subject normalizations. Transformations such as log/Box-Cox reduce asymmetry and make the assumptions of many models (residuals ~ normal) more reasonable.\n",
        "\n",
        "**5. Why is visualizing data an important step before applying Machine Learning models?**\n",
        "\n",
        "Visualization is an essential step because it allows researchers to read the dataset before modeling, detect hidden patterns, and understand the structure of the data intuitively. In biomedicine, where data quality often varies and clinical interpretation is critical, a simple graph can reveal serious problems that do not appear in numerical summaries. For example, a blood glucose histogram might show a bimodal distribution that differentiates patients with and without diabetes, whereas a table of means would not make this so clear. Through graphs it is possible to identify outliers, systematic biases, nonlinear relationships and redundant variables. It is also possible to observe class imbalances, very frequent in medical datasets, which directly influences the choice of algorithms and evaluation metrics. In addition, visualization helps to verify model assumptions. If the variables are not approximately normally distributed, it may be necessary to apply transformations. If there are strong correlations, it may be desirable to reduce dimensionality or eliminate redundant variables to avoid overfitting.\n",
        "\n",
        "**6. Why is preprocessing critical when working with medical datasets?**\n",
        "\n",
        "Preprocessing is essential in medical datasets because they often contain missing values, recording errors, heterogeneous formats, and variables measured on very different scales. Without proper cleaning and standardization, analysis or Machine Learning models can produce biased or unreliable results. Techniques such as missing value imputation, variable normalization, and outlier detection help reduce noise, improve data quality, and enhance the interpretation of results. In this way, preprocessing ensures that the patterns identified reflect clinical reality rather than recording errors or formatting inconsistencies.\n",
        "\n",
        "**7. What ethical concerns should be considered when handling patient data?**\n",
        "\n",
        "Handling patient data carries a major ethical responsibility, as it involves sensitive and confidential information. It is crucial to guarantee patient privacy and confidentiality through anonymization or pseudonymization, as well as to obtain informed consent for the use of their data in research. Security measures must also be implemented to protect information from unauthorized access, and data should not be used for purposes beyond those approved. Additionally, it is important to prevent biases that may lead to discrimination against specific population groups and to maintain transparency in how the data is processed and analyzed.\n",
        "\n"
      ],
      "metadata": {
        "id": "JOlwGPVIwk26"
      }
    },
    {
      "cell_type": "markdown",
      "source": [
        "# **GROUP CONCLUSION**\n",
        "The analysis and preparation of biomedical data is a crucial step before applying Machine Learning models, as the quality of the information directly influences the accuracy and reliability of the results. This work has addressed key aspects such as handling missing values, detecting outliers, applying normalization, and the role of visualization prior to modeling.\n",
        "The use of medical data has a direct impact on patient health; therefore, poor preprocessing or biased models can lead to incorrect diagnoses, ineffective treatments, or flawed medical decisions. This highlights the need for careful and responsible preprocessing, along with ethical considerations such as protecting privacy, ensuring confidentiality, and promoting fairness in predictive models.\n",
        "In conclusion, the success of a Machine Learning model largely depends on the quality and preparation of the data. Proper preprocessing not only improves model performance but also ensures reliable, fair, and safe results in medical applications."
      ],
      "metadata": {
        "id": "3C9Tp7ioCq2k"
      }
    }
  ]
}